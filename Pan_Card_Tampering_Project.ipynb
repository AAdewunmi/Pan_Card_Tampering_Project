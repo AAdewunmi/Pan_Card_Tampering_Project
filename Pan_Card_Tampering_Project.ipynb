{
  "nbformat": 4,
  "nbformat_minor": 0,
  "metadata": {
    "colab": {
      "provenance": [],
      "authorship_tag": "ABX9TyMPzIw3lAua+dOVU2zTeV+y",
      "include_colab_link": true
    },
    "kernelspec": {
      "name": "python3",
      "display_name": "Python 3"
    },
    "language_info": {
      "name": "python"
    }
  },
  "cells": [
    {
      "cell_type": "markdown",
      "metadata": {
        "id": "view-in-github",
        "colab_type": "text"
      },
      "source": [
        "<a href=\"https://colab.research.google.com/github/AAdewunmi/Pan_Card_Tampering_Project/blob/main/Pan_Card_Tampering_Project.ipynb\" target=\"_parent\"><img src=\"https://colab.research.google.com/assets/colab-badge.svg\" alt=\"Open In Colab\"/></a>"
      ]
    },
    {
      "cell_type": "code",
      "execution_count": null,
      "metadata": {
        "id": "owLjPpGow4sp"
      },
      "outputs": [],
      "source": []
    },
    {
      "cell_type": "markdown",
      "source": [
        "**PAN Card Tampering Detection Project (6 May, 2025)**\n",
        "\n",
        "The purpose of this project is to detect tampering of PAN card using Computer Vision. This project will help different organisations in detecting whether the id i.e. the PAN card provided to them by their employees or customers is original or not.\n",
        "\n",
        "For this project, we will calculate structural similarity of original PAN card uploaded by a user.\n"
      ],
      "metadata": {
        "id": "RvSmuBE80evR"
      }
    },
    {
      "cell_type": "code",
      "source": [
        "# import packages\n",
        "from skimage.metrics import structural_similarity\n",
        "import imutils\n",
        "import cv2\n",
        "from PIL import Image\n",
        "import requests"
      ],
      "metadata": {
        "id": "4d5RVK7j1pXv"
      },
      "execution_count": 1,
      "outputs": []
    },
    {
      "cell_type": "code",
      "source": [
        "!mkdir pan_card_tampering\n",
        "!mkdir pan_card_tampering/image"
      ],
      "metadata": {
        "id": "EYxyukXF3Uwi"
      },
      "execution_count": 2,
      "outputs": []
    },
    {
      "cell_type": "code",
      "source": [
        "# Open image and display\n",
        "original = Image.open(requests.get('https://www.thestatesman.com/wp-content/uploads/2019/07/pan-card.jpg', stream=True).raw)\n",
        "tampered = Image.open(requests.get('https://assets1.cleartax-cdn.com/s/img/20170526124335/Pan4.png', stream=True).raw)"
      ],
      "metadata": {
        "id": "WxAiix3h4Rw3"
      },
      "execution_count": 3,
      "outputs": []
    }
  ]
}