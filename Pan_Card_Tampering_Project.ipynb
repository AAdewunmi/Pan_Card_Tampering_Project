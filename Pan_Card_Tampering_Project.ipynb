{
  "nbformat": 4,
  "nbformat_minor": 0,
  "metadata": {
    "colab": {
      "provenance": [],
      "authorship_tag": "ABX9TyOlF5lABvND79ShGt83ZBGR",
      "include_colab_link": true
    },
    "kernelspec": {
      "name": "python3",
      "display_name": "Python 3"
    },
    "language_info": {
      "name": "python"
    }
  },
  "cells": [
    {
      "cell_type": "markdown",
      "metadata": {
        "id": "view-in-github",
        "colab_type": "text"
      },
      "source": [
        "<a href=\"https://colab.research.google.com/github/AAdewunmi/Pan_Card_Tampering_Project/blob/main/Pan_Card_Tampering_Project.ipynb\" target=\"_parent\"><img src=\"https://colab.research.google.com/assets/colab-badge.svg\" alt=\"Open In Colab\"/></a>"
      ]
    },
    {
      "cell_type": "code",
      "execution_count": 5,
      "metadata": {
        "id": "owLjPpGow4sp"
      },
      "outputs": [],
      "source": []
    },
    {
      "cell_type": "markdown",
      "source": [
        "**PAN Card Tampering Detection Project (6 May, 2025)**\n",
        "\n",
        "The purpose of this project is to detect tampering of PAN card using Computer Vision. This project will help different organisations in detecting whether the id i.e. the PAN card provided to them by their employees or customers is original or not.\n",
        "\n",
        "For this project, we will calculate structural similarity of original PAN card uploaded by a user.\n"
      ],
      "metadata": {
        "id": "RvSmuBE80evR"
      }
    },
    {
      "cell_type": "code",
      "source": [
        "# import packages\n",
        "from skimage.metrics import structural_similarity\n",
        "import imutils\n",
        "import cv2\n",
        "from PIL import Image\n",
        "import requests"
      ],
      "metadata": {
        "id": "4d5RVK7j1pXv"
      },
      "execution_count": 6,
      "outputs": []
    },
    {
      "cell_type": "code",
      "source": [
        "!mkdir pan_card_tampering\n",
        "!mkdir pan_card_tampering/image"
      ],
      "metadata": {
        "id": "EYxyukXF3Uwi",
        "colab": {
          "base_uri": "https://localhost:8080/"
        },
        "outputId": "0784c195-e516-4b77-da30-d4b87fce15dc"
      },
      "execution_count": 7,
      "outputs": [
        {
          "output_type": "stream",
          "name": "stdout",
          "text": [
            "mkdir: cannot create directory ‘pan_card_tampering’: File exists\n",
            "mkdir: cannot create directory ‘pan_card_tampering/image’: File exists\n"
          ]
        }
      ]
    },
    {
      "cell_type": "code",
      "source": [
        "# Open image and display\n",
        "original = Image.open(requests.get('https://www.thestatesman.com/wp-content/uploads/2019/07/pan-card.jpg', stream=True).raw)\n",
        "tampered = Image.open(requests.get('https://assets1.cleartax-cdn.com/s/img/20170526124335/Pan4.png', stream=True).raw)"
      ],
      "metadata": {
        "id": "WxAiix3h4Rw3"
      },
      "execution_count": 8,
      "outputs": []
    },
    {
      "cell_type": "markdown",
      "source": [
        "Loading original and user provided images."
      ],
      "metadata": {
        "id": "WyqjqDJxB_ow"
      }
    },
    {
      "cell_type": "code",
      "source": [
        "# The file format of the source file\n",
        "print(\"Original image format : \", original.format)\n",
        "print(\"Tampered image format : \", tampered.format)\n",
        "\n",
        "# Image size, in pixels. The size is given as a 2-tuple (width, height)\n",
        "print(\"Original image size : \", original.size)\n",
        "print(\"Tampered image size : \", tampered.size)"
      ],
      "metadata": {
        "colab": {
          "base_uri": "https://localhost:8080/"
        },
        "id": "JoVucopBCWEu",
        "outputId": "93ee42b4-8dae-441a-81f1-2fb249dcc97f"
      },
      "execution_count": 9,
      "outputs": [
        {
          "output_type": "stream",
          "name": "stdout",
          "text": [
            "Original image format :  JPEG\n",
            "Tampered image format :  PNG\n",
            "Original image size :  (1200, 800)\n",
            "Tampered image size :  (282, 179)\n"
          ]
        }
      ]
    },
    {
      "cell_type": "markdown",
      "source": [
        "Converting the format of the tampered image with the original image."
      ],
      "metadata": {
        "id": "sJcJk8oTYfUZ"
      }
    },
    {
      "cell_type": "code",
      "source": [
        "# Resize Image\n",
        "original = original.resize((250, 160))\n",
        "print(original.size)\n",
        "original.save('pan_card_tampering/image/original.png') # Save Image\n",
        "tampered = tampered.resize((250, 160))\n",
        "print(tampered.size)\n",
        "tampered.save('pan_card_tampering/image/tampered.png') # Save Image"
      ],
      "metadata": {
        "id": "Sk9J2bfTYxir",
        "colab": {
          "base_uri": "https://localhost:8080/"
        },
        "outputId": "337df07b-0065-4819-f958-f22ca04585ff"
      },
      "execution_count": 10,
      "outputs": [
        {
          "output_type": "stream",
          "name": "stdout",
          "text": [
            "(250, 160)\n",
            "(250, 160)\n"
          ]
        }
      ]
    },
    {
      "cell_type": "markdown",
      "source": [
        "Here, we check the format and size of the original and tampered image."
      ],
      "metadata": {
        "id": "By6mT8ZnXr4T"
      }
    },
    {
      "cell_type": "code",
      "source": [
        "# Change image type if required from png to jpg\n",
        "tampered = Image.open('pan_card_tampering/image/tampered.png')\n",
        "tampered.save('pan_card_tampering/image/tampered.png')"
      ],
      "metadata": {
        "id": "wDaZwjhPX3ls"
      },
      "execution_count": 13,
      "outputs": []
    }
  ]
}